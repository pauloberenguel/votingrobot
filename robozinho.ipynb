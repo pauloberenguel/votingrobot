{
 "cells": [
  {
   "cell_type": "code",
   "execution_count": null,
   "metadata": {},
   "outputs": [],
   "source": [
    "from selenium.webdriver.common.by import By\n",
    "from selenium.webdriver.support.ui import WebDriverWait\n",
    "from selenium.webdriver.support import expected_conditions as EC\n",
    "from selenium import webdriver\n",
    "i = 1\n",
    "options = webdriver.ChromeOptions()\n",
    "options.add_argument(\"--headless=new\")\n",
    "while True:\n",
    "    try:\n",
    "        driver = webdriver.Chrome(options=options)\n",
    "        driver.get(\"https://concurso.globalautomotive.com.br/\")\n",
    "        # Espera aparecer a camisa linda\n",
    "        element = WebDriverWait(driver, 1).until(EC.presence_of_element_located((By.XPATH, '//span[text()=\"Modelo 117\"]')))\n",
    "        \n",
    "        # Localiza o elemento do modelo 117\n",
    "        modelo_117 = driver.find_element(By.XPATH, '//span[text()=\"Modelo 117\"]')\n",
    "        modelo_117.click()\n",
    "\n",
    "         # Espera o botão de votar ser clicável\n",
    "        element = WebDriverWait(driver, 1).until(EC.element_to_be_clickable((By.XPATH, '/html/body/main/div/div/div[2]/div/div/div/div/div/div/div/form/div[5]/button')))\n",
    "\n",
    "        # Localiza o botão de votar e clica\n",
    "        votar_button = driver.find_element(By.XPATH, '/html/body/main/div/div/div[2]/div/div/div/div/div/div/div/form/div[5]/button')\n",
    "        votar_button.click()\n",
    "\n",
    "        print('Votado com sucesso! Total: ' + str(i) + ' votos')\n",
    "        i+=1\n",
    "        driver.implicitly_wait(0.25)\n",
    "        driver.quit()\n",
    "        continue\n",
    "\n",
    "    except Exception as e:\n",
    "        print(f\"Erro ao votar: {e}\")\n",
    "        driver.quit()\n",
    "        continue\n",
    "    else:\n",
    "        driver.quit()\n",
    "        continue"
   ]
  }
 ],
 "metadata": {
  "kernelspec": {
   "display_name": "Python 3",
   "language": "python",
   "name": "python3"
  },
  "language_info": {
   "codemirror_mode": {
    "name": "ipython",
    "version": 3
   },
   "file_extension": ".py",
   "mimetype": "text/x-python",
   "name": "python",
   "nbconvert_exporter": "python",
   "pygments_lexer": "ipython3",
   "version": "3.11.9"
  }
 },
 "nbformat": 4,
 "nbformat_minor": 2
}
